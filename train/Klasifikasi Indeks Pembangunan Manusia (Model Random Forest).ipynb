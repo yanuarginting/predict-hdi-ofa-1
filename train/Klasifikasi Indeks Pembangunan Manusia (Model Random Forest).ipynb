{
  "nbformat": 4,
  "nbformat_minor": 0,
  "metadata": {
    "colab": {
      "provenance": [],
      "collapsed_sections": []
    },
    "kernelspec": {
      "name": "python3",
      "display_name": "Python 3"
    },
    "language_info": {
      "name": "python"
    }
  },
  "cells": [
    {
      "cell_type": "markdown",
      "source": [
        "#Indeks Pembangunan Manusia"
      ],
      "metadata": {
        "id": "waNd9D2UVbhX"
      }
    },
    {
      "cell_type": "markdown",
      "source": [
        "###Problem Scoping\n",
        "---\n",
        "1. Who: \n",
        "  * Siapa yang mengalami & terlibat masalah: Masyarakat & Pemerintah\n",
        "2. What: \n",
        "  * Apa masalah: Kurangnya pemanfaatan SDM\n",
        "3. Where: \n",
        "  * Dimana masalah tersebut terjadi: Di seluruh Indonesia\n",
        "4. Why: \n",
        "  * Solusi dari masalah tersebut: Memprediksi IPM berdasarkan kategori yang sudah tersedia"
      ],
      "metadata": {
        "id": "3DaUr5XAHRnf"
      }
    },
    {
      "cell_type": "code",
      "execution_count": null,
      "metadata": {
        "id": "DMu5oPd_HMvK"
      },
      "outputs": [],
      "source": [
        "import numpy as np\n",
        "import pandas as pd\n",
        "import joblib\n",
        "import matplotlib.pyplot as plt\n",
        "%matplotlib inline\n",
        "from sklearn.model_selection import train_test_split\n",
        "from sklearn.ensemble import RandomForestClassifier\n",
        "from sklearn.metrics import accuracy_score\n",
        "from sklearn.metrics import confusion_matrix"
      ]
    },
    {
      "cell_type": "markdown",
      "source": [
        "###Data Acquisition\n",
        "---\n",
        "1. Data yang saya gunakan adalah IPM.csv\n",
        "2. Variabel data yang saya gunakan adalah:\n",
        "  * Harapan_Lama_Sekolah\n",
        "  * Pengeluaran_Perkapita\n",
        "  * Rerata_Lama_Sekolah\n",
        "  * Usia_Harapan_Hidup\n",
        "  * IPM\n",
        "3. Tidak ada missing value dari variabel data\n",
        "4. Untuk nilai yang ada dalam variabel data IPM adalah:\n",
        "  * Low: 0\n",
        "  * Normal: 1\n",
        "  * High: 2\n",
        "  * Very-High: 3"
      ],
      "metadata": {
        "id": "Wnz0sIz_Jdua"
      }
    },
    {
      "cell_type": "code",
      "source": [
        "df = pd.read_csv('IPM.csv')"
      ],
      "metadata": {
        "id": "PPv_o5DIKPy1"
      },
      "execution_count": null,
      "outputs": []
    },
    {
      "cell_type": "code",
      "source": [
        "df.info()"
      ],
      "metadata": {
        "colab": {
          "base_uri": "https://localhost:8080/"
        },
        "id": "vMGs9dj2LXTQ",
        "outputId": "e6a05dff-6a0b-49ab-db1d-48ac7e317831"
      },
      "execution_count": null,
      "outputs": [
        {
          "output_type": "stream",
          "name": "stdout",
          "text": [
            "<class 'pandas.core.frame.DataFrame'>\n",
            "RangeIndex: 2196 entries, 0 to 2195\n",
            "Data columns (total 5 columns):\n",
            " #   Column                 Non-Null Count  Dtype  \n",
            "---  ------                 --------------  -----  \n",
            " 0   Harapan_Lama_Sekolah   2196 non-null   float64\n",
            " 1   Pengeluaran_Perkapita  2196 non-null   int64  \n",
            " 2   Rerata_Lama_Sekolah    2196 non-null   float64\n",
            " 3   Usia_Harapan_Hidup     2196 non-null   float64\n",
            " 4   IPM                    2196 non-null   object \n",
            "dtypes: float64(3), int64(1), object(1)\n",
            "memory usage: 85.9+ KB\n"
          ]
        }
      ]
    },
    {
      "cell_type": "code",
      "source": [
        "df.rename(columns = {'Harapan_Lama_Sekolah':'harapan_lama_sekolah',\n",
        "                     'Pengeluaran_Perkapita':'pengeluaran_perkapita',\n",
        "                     'Rerata_Lama_Sekolah':'rerata_lama_sekolah',\n",
        "                     'Usia_Harapan_Hidup':'usia_harapan_hidup'}, inplace = True)"
      ],
      "metadata": {
        "id": "gKAR34Cbe1Lf"
      },
      "execution_count": null,
      "outputs": []
    },
    {
      "cell_type": "code",
      "source": [
        "df.describe()"
      ],
      "metadata": {
        "colab": {
          "base_uri": "https://localhost:8080/",
          "height": 300
        },
        "id": "bMImr5tiB_U7",
        "outputId": "f7d3d5f7-ec77-4639-c2e1-9678c34317c9"
      },
      "execution_count": null,
      "outputs": [
        {
          "output_type": "execute_result",
          "data": {
            "text/plain": [
              "       harapan_lama_sekolah  pengeluaran_perkapita  rerata_lama_sekolah  \\\n",
              "count           2196.000000            2196.000000          2196.000000   \n",
              "mean              12.931498               9.832878             8.291585   \n",
              "std                1.312967               2.671683             1.611256   \n",
              "min                2.950000               3.000000             0.850000   \n",
              "25%               12.350000               8.000000             7.390000   \n",
              "50%               12.860000              10.000000             8.180000   \n",
              "75%               13.570000              11.000000             9.180000   \n",
              "max               17.800000              23.000000            12.830000   \n",
              "\n",
              "       usia_harapan_hidup  \n",
              "count         2196.000000  \n",
              "mean            69.467418  \n",
              "std              3.437536  \n",
              "min             54.820000  \n",
              "25%             67.210000  \n",
              "50%             69.785000  \n",
              "75%             71.712500  \n",
              "max             77.730000  "
            ],
            "text/html": [
              "\n",
              "  <div id=\"df-67ce835b-347e-4bee-be9d-7c5d115ef476\">\n",
              "    <div class=\"colab-df-container\">\n",
              "      <div>\n",
              "<style scoped>\n",
              "    .dataframe tbody tr th:only-of-type {\n",
              "        vertical-align: middle;\n",
              "    }\n",
              "\n",
              "    .dataframe tbody tr th {\n",
              "        vertical-align: top;\n",
              "    }\n",
              "\n",
              "    .dataframe thead th {\n",
              "        text-align: right;\n",
              "    }\n",
              "</style>\n",
              "<table border=\"1\" class=\"dataframe\">\n",
              "  <thead>\n",
              "    <tr style=\"text-align: right;\">\n",
              "      <th></th>\n",
              "      <th>harapan_lama_sekolah</th>\n",
              "      <th>pengeluaran_perkapita</th>\n",
              "      <th>rerata_lama_sekolah</th>\n",
              "      <th>usia_harapan_hidup</th>\n",
              "    </tr>\n",
              "  </thead>\n",
              "  <tbody>\n",
              "    <tr>\n",
              "      <th>count</th>\n",
              "      <td>2196.000000</td>\n",
              "      <td>2196.000000</td>\n",
              "      <td>2196.000000</td>\n",
              "      <td>2196.000000</td>\n",
              "    </tr>\n",
              "    <tr>\n",
              "      <th>mean</th>\n",
              "      <td>12.931498</td>\n",
              "      <td>9.832878</td>\n",
              "      <td>8.291585</td>\n",
              "      <td>69.467418</td>\n",
              "    </tr>\n",
              "    <tr>\n",
              "      <th>std</th>\n",
              "      <td>1.312967</td>\n",
              "      <td>2.671683</td>\n",
              "      <td>1.611256</td>\n",
              "      <td>3.437536</td>\n",
              "    </tr>\n",
              "    <tr>\n",
              "      <th>min</th>\n",
              "      <td>2.950000</td>\n",
              "      <td>3.000000</td>\n",
              "      <td>0.850000</td>\n",
              "      <td>54.820000</td>\n",
              "    </tr>\n",
              "    <tr>\n",
              "      <th>25%</th>\n",
              "      <td>12.350000</td>\n",
              "      <td>8.000000</td>\n",
              "      <td>7.390000</td>\n",
              "      <td>67.210000</td>\n",
              "    </tr>\n",
              "    <tr>\n",
              "      <th>50%</th>\n",
              "      <td>12.860000</td>\n",
              "      <td>10.000000</td>\n",
              "      <td>8.180000</td>\n",
              "      <td>69.785000</td>\n",
              "    </tr>\n",
              "    <tr>\n",
              "      <th>75%</th>\n",
              "      <td>13.570000</td>\n",
              "      <td>11.000000</td>\n",
              "      <td>9.180000</td>\n",
              "      <td>71.712500</td>\n",
              "    </tr>\n",
              "    <tr>\n",
              "      <th>max</th>\n",
              "      <td>17.800000</td>\n",
              "      <td>23.000000</td>\n",
              "      <td>12.830000</td>\n",
              "      <td>77.730000</td>\n",
              "    </tr>\n",
              "  </tbody>\n",
              "</table>\n",
              "</div>\n",
              "      <button class=\"colab-df-convert\" onclick=\"convertToInteractive('df-67ce835b-347e-4bee-be9d-7c5d115ef476')\"\n",
              "              title=\"Convert this dataframe to an interactive table.\"\n",
              "              style=\"display:none;\">\n",
              "        \n",
              "  <svg xmlns=\"http://www.w3.org/2000/svg\" height=\"24px\"viewBox=\"0 0 24 24\"\n",
              "       width=\"24px\">\n",
              "    <path d=\"M0 0h24v24H0V0z\" fill=\"none\"/>\n",
              "    <path d=\"M18.56 5.44l.94 2.06.94-2.06 2.06-.94-2.06-.94-.94-2.06-.94 2.06-2.06.94zm-11 1L8.5 8.5l.94-2.06 2.06-.94-2.06-.94L8.5 2.5l-.94 2.06-2.06.94zm10 10l.94 2.06.94-2.06 2.06-.94-2.06-.94-.94-2.06-.94 2.06-2.06.94z\"/><path d=\"M17.41 7.96l-1.37-1.37c-.4-.4-.92-.59-1.43-.59-.52 0-1.04.2-1.43.59L10.3 9.45l-7.72 7.72c-.78.78-.78 2.05 0 2.83L4 21.41c.39.39.9.59 1.41.59.51 0 1.02-.2 1.41-.59l7.78-7.78 2.81-2.81c.8-.78.8-2.07 0-2.86zM5.41 20L4 18.59l7.72-7.72 1.47 1.35L5.41 20z\"/>\n",
              "  </svg>\n",
              "      </button>\n",
              "      \n",
              "  <style>\n",
              "    .colab-df-container {\n",
              "      display:flex;\n",
              "      flex-wrap:wrap;\n",
              "      gap: 12px;\n",
              "    }\n",
              "\n",
              "    .colab-df-convert {\n",
              "      background-color: #E8F0FE;\n",
              "      border: none;\n",
              "      border-radius: 50%;\n",
              "      cursor: pointer;\n",
              "      display: none;\n",
              "      fill: #1967D2;\n",
              "      height: 32px;\n",
              "      padding: 0 0 0 0;\n",
              "      width: 32px;\n",
              "    }\n",
              "\n",
              "    .colab-df-convert:hover {\n",
              "      background-color: #E2EBFA;\n",
              "      box-shadow: 0px 1px 2px rgba(60, 64, 67, 0.3), 0px 1px 3px 1px rgba(60, 64, 67, 0.15);\n",
              "      fill: #174EA6;\n",
              "    }\n",
              "\n",
              "    [theme=dark] .colab-df-convert {\n",
              "      background-color: #3B4455;\n",
              "      fill: #D2E3FC;\n",
              "    }\n",
              "\n",
              "    [theme=dark] .colab-df-convert:hover {\n",
              "      background-color: #434B5C;\n",
              "      box-shadow: 0px 1px 3px 1px rgba(0, 0, 0, 0.15);\n",
              "      filter: drop-shadow(0px 1px 2px rgba(0, 0, 0, 0.3));\n",
              "      fill: #FFFFFF;\n",
              "    }\n",
              "  </style>\n",
              "\n",
              "      <script>\n",
              "        const buttonEl =\n",
              "          document.querySelector('#df-67ce835b-347e-4bee-be9d-7c5d115ef476 button.colab-df-convert');\n",
              "        buttonEl.style.display =\n",
              "          google.colab.kernel.accessAllowed ? 'block' : 'none';\n",
              "\n",
              "        async function convertToInteractive(key) {\n",
              "          const element = document.querySelector('#df-67ce835b-347e-4bee-be9d-7c5d115ef476');\n",
              "          const dataTable =\n",
              "            await google.colab.kernel.invokeFunction('convertToInteractive',\n",
              "                                                     [key], {});\n",
              "          if (!dataTable) return;\n",
              "\n",
              "          const docLinkHtml = 'Like what you see? Visit the ' +\n",
              "            '<a target=\"_blank\" href=https://colab.research.google.com/notebooks/data_table.ipynb>data table notebook</a>'\n",
              "            + ' to learn more about interactive tables.';\n",
              "          element.innerHTML = '';\n",
              "          dataTable['output_type'] = 'display_data';\n",
              "          await google.colab.output.renderOutput(dataTable, element);\n",
              "          const docLink = document.createElement('div');\n",
              "          docLink.innerHTML = docLinkHtml;\n",
              "          element.appendChild(docLink);\n",
              "        }\n",
              "      </script>\n",
              "    </div>\n",
              "  </div>\n",
              "  "
            ]
          },
          "metadata": {},
          "execution_count": 6
        }
      ]
    },
    {
      "cell_type": "code",
      "source": [
        "df['IPM'].unique()"
      ],
      "metadata": {
        "colab": {
          "base_uri": "https://localhost:8080/"
        },
        "id": "AbUQZlOLLdvC",
        "outputId": "407896a9-565d-4315-d308-365d64484370"
      },
      "execution_count": null,
      "outputs": [
        {
          "output_type": "execute_result",
          "data": {
            "text/plain": [
              "array(['High', 'Normal', 'Very-High', 'Low'], dtype=object)"
            ]
          },
          "metadata": {},
          "execution_count": 7
        }
      ]
    },
    {
      "cell_type": "code",
      "source": [
        "#Inisialisasi variabel X\n",
        "X = df[['harapan_lama_sekolah','pengeluaran_perkapita','rerata_lama_sekolah','usia_harapan_hidup']]"
      ],
      "metadata": {
        "id": "w9HHtk8ioLyY"
      },
      "execution_count": null,
      "outputs": []
    },
    {
      "cell_type": "code",
      "source": [
        "X.head(20)"
      ],
      "metadata": {
        "colab": {
          "base_uri": "https://localhost:8080/",
          "height": 677
        },
        "id": "f9dvUpzjfgxQ",
        "outputId": "2701a7f3-acb4-491c-9fc4-4958f0a71cf9"
      },
      "execution_count": null,
      "outputs": [
        {
          "output_type": "execute_result",
          "data": {
            "text/plain": [
              "    harapan_lama_sekolah  pengeluaran_perkapita  rerata_lama_sekolah  \\\n",
              "0                  14.36                      9                 9.37   \n",
              "1                  13.90                      7                 9.48   \n",
              "2                  14.32                      8                 8.68   \n",
              "3                  14.60                      8                 8.88   \n",
              "4                  14.01                      8                 9.67   \n",
              "5                  13.04                      8                 8.21   \n",
              "6                  14.28                     10                 9.86   \n",
              "7                  14.61                      9                 9.55   \n",
              "8                  14.73                      9                10.33   \n",
              "9                  14.47                      9                 9.00   \n",
              "10                 14.84                      8                 9.29   \n",
              "11                 14.71                      8                 8.64   \n",
              "12                 13.65                      8                 8.67   \n",
              "13                 13.78                      8                 8.40   \n",
              "14                 13.76                      8                 8.91   \n",
              "15                 14.14                      8                 8.69   \n",
              "16                 13.99                      9                 8.71   \n",
              "17                 13.47                     11                10.00   \n",
              "18                 14.97                     10                 9.34   \n",
              "19                 17.80                     16                12.83   \n",
              "\n",
              "    usia_harapan_hidup  \n",
              "0                69.96  \n",
              "1                65.28  \n",
              "2                67.43  \n",
              "3                64.40  \n",
              "4                68.22  \n",
              "5                68.74  \n",
              "6                68.86  \n",
              "7                67.99  \n",
              "8                69.79  \n",
              "9                66.95  \n",
              "10               71.26  \n",
              "11               68.81  \n",
              "12               65.06  \n",
              "13               65.53  \n",
              "14               69.63  \n",
              "15               69.24  \n",
              "16               67.19  \n",
              "17               69.26  \n",
              "18               70.18  \n",
              "19               71.52  "
            ],
            "text/html": [
              "\n",
              "  <div id=\"df-2460208b-f110-49fa-b774-dc245f63e519\">\n",
              "    <div class=\"colab-df-container\">\n",
              "      <div>\n",
              "<style scoped>\n",
              "    .dataframe tbody tr th:only-of-type {\n",
              "        vertical-align: middle;\n",
              "    }\n",
              "\n",
              "    .dataframe tbody tr th {\n",
              "        vertical-align: top;\n",
              "    }\n",
              "\n",
              "    .dataframe thead th {\n",
              "        text-align: right;\n",
              "    }\n",
              "</style>\n",
              "<table border=\"1\" class=\"dataframe\">\n",
              "  <thead>\n",
              "    <tr style=\"text-align: right;\">\n",
              "      <th></th>\n",
              "      <th>harapan_lama_sekolah</th>\n",
              "      <th>pengeluaran_perkapita</th>\n",
              "      <th>rerata_lama_sekolah</th>\n",
              "      <th>usia_harapan_hidup</th>\n",
              "    </tr>\n",
              "  </thead>\n",
              "  <tbody>\n",
              "    <tr>\n",
              "      <th>0</th>\n",
              "      <td>14.36</td>\n",
              "      <td>9</td>\n",
              "      <td>9.37</td>\n",
              "      <td>69.96</td>\n",
              "    </tr>\n",
              "    <tr>\n",
              "      <th>1</th>\n",
              "      <td>13.90</td>\n",
              "      <td>7</td>\n",
              "      <td>9.48</td>\n",
              "      <td>65.28</td>\n",
              "    </tr>\n",
              "    <tr>\n",
              "      <th>2</th>\n",
              "      <td>14.32</td>\n",
              "      <td>8</td>\n",
              "      <td>8.68</td>\n",
              "      <td>67.43</td>\n",
              "    </tr>\n",
              "    <tr>\n",
              "      <th>3</th>\n",
              "      <td>14.60</td>\n",
              "      <td>8</td>\n",
              "      <td>8.88</td>\n",
              "      <td>64.40</td>\n",
              "    </tr>\n",
              "    <tr>\n",
              "      <th>4</th>\n",
              "      <td>14.01</td>\n",
              "      <td>8</td>\n",
              "      <td>9.67</td>\n",
              "      <td>68.22</td>\n",
              "    </tr>\n",
              "    <tr>\n",
              "      <th>5</th>\n",
              "      <td>13.04</td>\n",
              "      <td>8</td>\n",
              "      <td>8.21</td>\n",
              "      <td>68.74</td>\n",
              "    </tr>\n",
              "    <tr>\n",
              "      <th>6</th>\n",
              "      <td>14.28</td>\n",
              "      <td>10</td>\n",
              "      <td>9.86</td>\n",
              "      <td>68.86</td>\n",
              "    </tr>\n",
              "    <tr>\n",
              "      <th>7</th>\n",
              "      <td>14.61</td>\n",
              "      <td>9</td>\n",
              "      <td>9.55</td>\n",
              "      <td>67.99</td>\n",
              "    </tr>\n",
              "    <tr>\n",
              "      <th>8</th>\n",
              "      <td>14.73</td>\n",
              "      <td>9</td>\n",
              "      <td>10.33</td>\n",
              "      <td>69.79</td>\n",
              "    </tr>\n",
              "    <tr>\n",
              "      <th>9</th>\n",
              "      <td>14.47</td>\n",
              "      <td>9</td>\n",
              "      <td>9.00</td>\n",
              "      <td>66.95</td>\n",
              "    </tr>\n",
              "    <tr>\n",
              "      <th>10</th>\n",
              "      <td>14.84</td>\n",
              "      <td>8</td>\n",
              "      <td>9.29</td>\n",
              "      <td>71.26</td>\n",
              "    </tr>\n",
              "    <tr>\n",
              "      <th>11</th>\n",
              "      <td>14.71</td>\n",
              "      <td>8</td>\n",
              "      <td>8.64</td>\n",
              "      <td>68.81</td>\n",
              "    </tr>\n",
              "    <tr>\n",
              "      <th>12</th>\n",
              "      <td>13.65</td>\n",
              "      <td>8</td>\n",
              "      <td>8.67</td>\n",
              "      <td>65.06</td>\n",
              "    </tr>\n",
              "    <tr>\n",
              "      <th>13</th>\n",
              "      <td>13.78</td>\n",
              "      <td>8</td>\n",
              "      <td>8.40</td>\n",
              "      <td>65.53</td>\n",
              "    </tr>\n",
              "    <tr>\n",
              "      <th>14</th>\n",
              "      <td>13.76</td>\n",
              "      <td>8</td>\n",
              "      <td>8.91</td>\n",
              "      <td>69.63</td>\n",
              "    </tr>\n",
              "    <tr>\n",
              "      <th>15</th>\n",
              "      <td>14.14</td>\n",
              "      <td>8</td>\n",
              "      <td>8.69</td>\n",
              "      <td>69.24</td>\n",
              "    </tr>\n",
              "    <tr>\n",
              "      <th>16</th>\n",
              "      <td>13.99</td>\n",
              "      <td>9</td>\n",
              "      <td>8.71</td>\n",
              "      <td>67.19</td>\n",
              "    </tr>\n",
              "    <tr>\n",
              "      <th>17</th>\n",
              "      <td>13.47</td>\n",
              "      <td>11</td>\n",
              "      <td>10.00</td>\n",
              "      <td>69.26</td>\n",
              "    </tr>\n",
              "    <tr>\n",
              "      <th>18</th>\n",
              "      <td>14.97</td>\n",
              "      <td>10</td>\n",
              "      <td>9.34</td>\n",
              "      <td>70.18</td>\n",
              "    </tr>\n",
              "    <tr>\n",
              "      <th>19</th>\n",
              "      <td>17.80</td>\n",
              "      <td>16</td>\n",
              "      <td>12.83</td>\n",
              "      <td>71.52</td>\n",
              "    </tr>\n",
              "  </tbody>\n",
              "</table>\n",
              "</div>\n",
              "      <button class=\"colab-df-convert\" onclick=\"convertToInteractive('df-2460208b-f110-49fa-b774-dc245f63e519')\"\n",
              "              title=\"Convert this dataframe to an interactive table.\"\n",
              "              style=\"display:none;\">\n",
              "        \n",
              "  <svg xmlns=\"http://www.w3.org/2000/svg\" height=\"24px\"viewBox=\"0 0 24 24\"\n",
              "       width=\"24px\">\n",
              "    <path d=\"M0 0h24v24H0V0z\" fill=\"none\"/>\n",
              "    <path d=\"M18.56 5.44l.94 2.06.94-2.06 2.06-.94-2.06-.94-.94-2.06-.94 2.06-2.06.94zm-11 1L8.5 8.5l.94-2.06 2.06-.94-2.06-.94L8.5 2.5l-.94 2.06-2.06.94zm10 10l.94 2.06.94-2.06 2.06-.94-2.06-.94-.94-2.06-.94 2.06-2.06.94z\"/><path d=\"M17.41 7.96l-1.37-1.37c-.4-.4-.92-.59-1.43-.59-.52 0-1.04.2-1.43.59L10.3 9.45l-7.72 7.72c-.78.78-.78 2.05 0 2.83L4 21.41c.39.39.9.59 1.41.59.51 0 1.02-.2 1.41-.59l7.78-7.78 2.81-2.81c.8-.78.8-2.07 0-2.86zM5.41 20L4 18.59l7.72-7.72 1.47 1.35L5.41 20z\"/>\n",
              "  </svg>\n",
              "      </button>\n",
              "      \n",
              "  <style>\n",
              "    .colab-df-container {\n",
              "      display:flex;\n",
              "      flex-wrap:wrap;\n",
              "      gap: 12px;\n",
              "    }\n",
              "\n",
              "    .colab-df-convert {\n",
              "      background-color: #E8F0FE;\n",
              "      border: none;\n",
              "      border-radius: 50%;\n",
              "      cursor: pointer;\n",
              "      display: none;\n",
              "      fill: #1967D2;\n",
              "      height: 32px;\n",
              "      padding: 0 0 0 0;\n",
              "      width: 32px;\n",
              "    }\n",
              "\n",
              "    .colab-df-convert:hover {\n",
              "      background-color: #E2EBFA;\n",
              "      box-shadow: 0px 1px 2px rgba(60, 64, 67, 0.3), 0px 1px 3px 1px rgba(60, 64, 67, 0.15);\n",
              "      fill: #174EA6;\n",
              "    }\n",
              "\n",
              "    [theme=dark] .colab-df-convert {\n",
              "      background-color: #3B4455;\n",
              "      fill: #D2E3FC;\n",
              "    }\n",
              "\n",
              "    [theme=dark] .colab-df-convert:hover {\n",
              "      background-color: #434B5C;\n",
              "      box-shadow: 0px 1px 3px 1px rgba(0, 0, 0, 0.15);\n",
              "      filter: drop-shadow(0px 1px 2px rgba(0, 0, 0, 0.3));\n",
              "      fill: #FFFFFF;\n",
              "    }\n",
              "  </style>\n",
              "\n",
              "      <script>\n",
              "        const buttonEl =\n",
              "          document.querySelector('#df-2460208b-f110-49fa-b774-dc245f63e519 button.colab-df-convert');\n",
              "        buttonEl.style.display =\n",
              "          google.colab.kernel.accessAllowed ? 'block' : 'none';\n",
              "\n",
              "        async function convertToInteractive(key) {\n",
              "          const element = document.querySelector('#df-2460208b-f110-49fa-b774-dc245f63e519');\n",
              "          const dataTable =\n",
              "            await google.colab.kernel.invokeFunction('convertToInteractive',\n",
              "                                                     [key], {});\n",
              "          if (!dataTable) return;\n",
              "\n",
              "          const docLinkHtml = 'Like what you see? Visit the ' +\n",
              "            '<a target=\"_blank\" href=https://colab.research.google.com/notebooks/data_table.ipynb>data table notebook</a>'\n",
              "            + ' to learn more about interactive tables.';\n",
              "          element.innerHTML = '';\n",
              "          dataTable['output_type'] = 'display_data';\n",
              "          await google.colab.output.renderOutput(dataTable, element);\n",
              "          const docLink = document.createElement('div');\n",
              "          docLink.innerHTML = docLinkHtml;\n",
              "          element.appendChild(docLink);\n",
              "        }\n",
              "      </script>\n",
              "    </div>\n",
              "  </div>\n",
              "  "
            ]
          },
          "metadata": {},
          "execution_count": 9
        }
      ]
    },
    {
      "cell_type": "code",
      "source": [
        "X.tail(20)"
      ],
      "metadata": {
        "colab": {
          "base_uri": "https://localhost:8080/",
          "height": 677
        },
        "id": "unEij30UfhQu",
        "outputId": "e3cb76f1-985e-411a-caa3-7e10a8bad81e"
      },
      "execution_count": null,
      "outputs": [
        {
          "output_type": "execute_result",
          "data": {
            "text/plain": [
              "      harapan_lama_sekolah  pengeluaran_perkapita  rerata_lama_sekolah  \\\n",
              "2176                 10.53                      6                 6.29   \n",
              "2177                  8.47                      5                 4.74   \n",
              "2178                  7.59                      4                 4.01   \n",
              "2179                  5.79                      5                 2.49   \n",
              "2180                  8.04                      4                 3.62   \n",
              "2181                 11.55                      6                 8.52   \n",
              "2182                 12.14                      8                 7.83   \n",
              "2183                 12.77                      6                 8.87   \n",
              "2184                 12.72                      5                 8.39   \n",
              "2185                 11.30                      4                 5.46   \n",
              "2186                  2.95                      4                 0.85   \n",
              "2187                  8.01                      4                 3.18   \n",
              "2188                  8.33                      4                 2.78   \n",
              "2189                  8.46                      4                 2.44   \n",
              "2190                  4.93                      5                 1.95   \n",
              "2191                 10.13                      5                 4.91   \n",
              "2192                  7.11                      5                 2.51   \n",
              "2193                  9.79                      4                 2.99   \n",
              "2194                 14.99                     14                11.30   \n",
              "2195                 12.91                     11                 8.17   \n",
              "\n",
              "      usia_harapan_hidup  \n",
              "2176               64.56  \n",
              "2177               56.88  \n",
              "2178               65.52  \n",
              "2179               64.08  \n",
              "2180               65.30  \n",
              "2181               66.00  \n",
              "2182               66.35  \n",
              "2183               65.99  \n",
              "2184               65.53  \n",
              "2185               57.18  \n",
              "2186               54.82  \n",
              "2187               65.79  \n",
              "2188               63.14  \n",
              "2189               65.10  \n",
              "2190               65.33  \n",
              "2191               65.32  \n",
              "2192               65.26  \n",
              "2193               64.83  \n",
              "2194               70.15  \n",
              "2195               71.20  "
            ],
            "text/html": [
              "\n",
              "  <div id=\"df-d85ab293-3ed1-4d51-8723-6a5f2cda34a0\">\n",
              "    <div class=\"colab-df-container\">\n",
              "      <div>\n",
              "<style scoped>\n",
              "    .dataframe tbody tr th:only-of-type {\n",
              "        vertical-align: middle;\n",
              "    }\n",
              "\n",
              "    .dataframe tbody tr th {\n",
              "        vertical-align: top;\n",
              "    }\n",
              "\n",
              "    .dataframe thead th {\n",
              "        text-align: right;\n",
              "    }\n",
              "</style>\n",
              "<table border=\"1\" class=\"dataframe\">\n",
              "  <thead>\n",
              "    <tr style=\"text-align: right;\">\n",
              "      <th></th>\n",
              "      <th>harapan_lama_sekolah</th>\n",
              "      <th>pengeluaran_perkapita</th>\n",
              "      <th>rerata_lama_sekolah</th>\n",
              "      <th>usia_harapan_hidup</th>\n",
              "    </tr>\n",
              "  </thead>\n",
              "  <tbody>\n",
              "    <tr>\n",
              "      <th>2176</th>\n",
              "      <td>10.53</td>\n",
              "      <td>6</td>\n",
              "      <td>6.29</td>\n",
              "      <td>64.56</td>\n",
              "    </tr>\n",
              "    <tr>\n",
              "      <th>2177</th>\n",
              "      <td>8.47</td>\n",
              "      <td>5</td>\n",
              "      <td>4.74</td>\n",
              "      <td>56.88</td>\n",
              "    </tr>\n",
              "    <tr>\n",
              "      <th>2178</th>\n",
              "      <td>7.59</td>\n",
              "      <td>4</td>\n",
              "      <td>4.01</td>\n",
              "      <td>65.52</td>\n",
              "    </tr>\n",
              "    <tr>\n",
              "      <th>2179</th>\n",
              "      <td>5.79</td>\n",
              "      <td>5</td>\n",
              "      <td>2.49</td>\n",
              "      <td>64.08</td>\n",
              "    </tr>\n",
              "    <tr>\n",
              "      <th>2180</th>\n",
              "      <td>8.04</td>\n",
              "      <td>4</td>\n",
              "      <td>3.62</td>\n",
              "      <td>65.30</td>\n",
              "    </tr>\n",
              "    <tr>\n",
              "      <th>2181</th>\n",
              "      <td>11.55</td>\n",
              "      <td>6</td>\n",
              "      <td>8.52</td>\n",
              "      <td>66.00</td>\n",
              "    </tr>\n",
              "    <tr>\n",
              "      <th>2182</th>\n",
              "      <td>12.14</td>\n",
              "      <td>8</td>\n",
              "      <td>7.83</td>\n",
              "      <td>66.35</td>\n",
              "    </tr>\n",
              "    <tr>\n",
              "      <th>2183</th>\n",
              "      <td>12.77</td>\n",
              "      <td>6</td>\n",
              "      <td>8.87</td>\n",
              "      <td>65.99</td>\n",
              "    </tr>\n",
              "    <tr>\n",
              "      <th>2184</th>\n",
              "      <td>12.72</td>\n",
              "      <td>5</td>\n",
              "      <td>8.39</td>\n",
              "      <td>65.53</td>\n",
              "    </tr>\n",
              "    <tr>\n",
              "      <th>2185</th>\n",
              "      <td>11.30</td>\n",
              "      <td>4</td>\n",
              "      <td>5.46</td>\n",
              "      <td>57.18</td>\n",
              "    </tr>\n",
              "    <tr>\n",
              "      <th>2186</th>\n",
              "      <td>2.95</td>\n",
              "      <td>4</td>\n",
              "      <td>0.85</td>\n",
              "      <td>54.82</td>\n",
              "    </tr>\n",
              "    <tr>\n",
              "      <th>2187</th>\n",
              "      <td>8.01</td>\n",
              "      <td>4</td>\n",
              "      <td>3.18</td>\n",
              "      <td>65.79</td>\n",
              "    </tr>\n",
              "    <tr>\n",
              "      <th>2188</th>\n",
              "      <td>8.33</td>\n",
              "      <td>4</td>\n",
              "      <td>2.78</td>\n",
              "      <td>63.14</td>\n",
              "    </tr>\n",
              "    <tr>\n",
              "      <th>2189</th>\n",
              "      <td>8.46</td>\n",
              "      <td>4</td>\n",
              "      <td>2.44</td>\n",
              "      <td>65.10</td>\n",
              "    </tr>\n",
              "    <tr>\n",
              "      <th>2190</th>\n",
              "      <td>4.93</td>\n",
              "      <td>5</td>\n",
              "      <td>1.95</td>\n",
              "      <td>65.33</td>\n",
              "    </tr>\n",
              "    <tr>\n",
              "      <th>2191</th>\n",
              "      <td>10.13</td>\n",
              "      <td>5</td>\n",
              "      <td>4.91</td>\n",
              "      <td>65.32</td>\n",
              "    </tr>\n",
              "    <tr>\n",
              "      <th>2192</th>\n",
              "      <td>7.11</td>\n",
              "      <td>5</td>\n",
              "      <td>2.51</td>\n",
              "      <td>65.26</td>\n",
              "    </tr>\n",
              "    <tr>\n",
              "      <th>2193</th>\n",
              "      <td>9.79</td>\n",
              "      <td>4</td>\n",
              "      <td>2.99</td>\n",
              "      <td>64.83</td>\n",
              "    </tr>\n",
              "    <tr>\n",
              "      <th>2194</th>\n",
              "      <td>14.99</td>\n",
              "      <td>14</td>\n",
              "      <td>11.30</td>\n",
              "      <td>70.15</td>\n",
              "    </tr>\n",
              "    <tr>\n",
              "      <th>2195</th>\n",
              "      <td>12.91</td>\n",
              "      <td>11</td>\n",
              "      <td>8.17</td>\n",
              "      <td>71.20</td>\n",
              "    </tr>\n",
              "  </tbody>\n",
              "</table>\n",
              "</div>\n",
              "      <button class=\"colab-df-convert\" onclick=\"convertToInteractive('df-d85ab293-3ed1-4d51-8723-6a5f2cda34a0')\"\n",
              "              title=\"Convert this dataframe to an interactive table.\"\n",
              "              style=\"display:none;\">\n",
              "        \n",
              "  <svg xmlns=\"http://www.w3.org/2000/svg\" height=\"24px\"viewBox=\"0 0 24 24\"\n",
              "       width=\"24px\">\n",
              "    <path d=\"M0 0h24v24H0V0z\" fill=\"none\"/>\n",
              "    <path d=\"M18.56 5.44l.94 2.06.94-2.06 2.06-.94-2.06-.94-.94-2.06-.94 2.06-2.06.94zm-11 1L8.5 8.5l.94-2.06 2.06-.94-2.06-.94L8.5 2.5l-.94 2.06-2.06.94zm10 10l.94 2.06.94-2.06 2.06-.94-2.06-.94-.94-2.06-.94 2.06-2.06.94z\"/><path d=\"M17.41 7.96l-1.37-1.37c-.4-.4-.92-.59-1.43-.59-.52 0-1.04.2-1.43.59L10.3 9.45l-7.72 7.72c-.78.78-.78 2.05 0 2.83L4 21.41c.39.39.9.59 1.41.59.51 0 1.02-.2 1.41-.59l7.78-7.78 2.81-2.81c.8-.78.8-2.07 0-2.86zM5.41 20L4 18.59l7.72-7.72 1.47 1.35L5.41 20z\"/>\n",
              "  </svg>\n",
              "      </button>\n",
              "      \n",
              "  <style>\n",
              "    .colab-df-container {\n",
              "      display:flex;\n",
              "      flex-wrap:wrap;\n",
              "      gap: 12px;\n",
              "    }\n",
              "\n",
              "    .colab-df-convert {\n",
              "      background-color: #E8F0FE;\n",
              "      border: none;\n",
              "      border-radius: 50%;\n",
              "      cursor: pointer;\n",
              "      display: none;\n",
              "      fill: #1967D2;\n",
              "      height: 32px;\n",
              "      padding: 0 0 0 0;\n",
              "      width: 32px;\n",
              "    }\n",
              "\n",
              "    .colab-df-convert:hover {\n",
              "      background-color: #E2EBFA;\n",
              "      box-shadow: 0px 1px 2px rgba(60, 64, 67, 0.3), 0px 1px 3px 1px rgba(60, 64, 67, 0.15);\n",
              "      fill: #174EA6;\n",
              "    }\n",
              "\n",
              "    [theme=dark] .colab-df-convert {\n",
              "      background-color: #3B4455;\n",
              "      fill: #D2E3FC;\n",
              "    }\n",
              "\n",
              "    [theme=dark] .colab-df-convert:hover {\n",
              "      background-color: #434B5C;\n",
              "      box-shadow: 0px 1px 3px 1px rgba(0, 0, 0, 0.15);\n",
              "      filter: drop-shadow(0px 1px 2px rgba(0, 0, 0, 0.3));\n",
              "      fill: #FFFFFF;\n",
              "    }\n",
              "  </style>\n",
              "\n",
              "      <script>\n",
              "        const buttonEl =\n",
              "          document.querySelector('#df-d85ab293-3ed1-4d51-8723-6a5f2cda34a0 button.colab-df-convert');\n",
              "        buttonEl.style.display =\n",
              "          google.colab.kernel.accessAllowed ? 'block' : 'none';\n",
              "\n",
              "        async function convertToInteractive(key) {\n",
              "          const element = document.querySelector('#df-d85ab293-3ed1-4d51-8723-6a5f2cda34a0');\n",
              "          const dataTable =\n",
              "            await google.colab.kernel.invokeFunction('convertToInteractive',\n",
              "                                                     [key], {});\n",
              "          if (!dataTable) return;\n",
              "\n",
              "          const docLinkHtml = 'Like what you see? Visit the ' +\n",
              "            '<a target=\"_blank\" href=https://colab.research.google.com/notebooks/data_table.ipynb>data table notebook</a>'\n",
              "            + ' to learn more about interactive tables.';\n",
              "          element.innerHTML = '';\n",
              "          dataTable['output_type'] = 'display_data';\n",
              "          await google.colab.output.renderOutput(dataTable, element);\n",
              "          const docLink = document.createElement('div');\n",
              "          docLink.innerHTML = docLinkHtml;\n",
              "          element.appendChild(docLink);\n",
              "        }\n",
              "      </script>\n",
              "    </div>\n",
              "  </div>\n",
              "  "
            ]
          },
          "metadata": {},
          "execution_count": 10
        }
      ]
    },
    {
      "cell_type": "code",
      "source": [
        "#Inisialisasi variabel y\n",
        "y = df['IPM']"
      ],
      "metadata": {
        "id": "mt4Ufn3Topui"
      },
      "execution_count": null,
      "outputs": []
    },
    {
      "cell_type": "code",
      "source": [
        "y.head(20)"
      ],
      "metadata": {
        "colab": {
          "base_uri": "https://localhost:8080/"
        },
        "id": "wGO_bV6hfcYp",
        "outputId": "87f8a3eb-5907-464b-93bf-3591d03a49a5"
      },
      "execution_count": null,
      "outputs": [
        {
          "output_type": "execute_result",
          "data": {
            "text/plain": [
              "0          High\n",
              "1        Normal\n",
              "2        Normal\n",
              "3        Normal\n",
              "4        Normal\n",
              "5        Normal\n",
              "6          High\n",
              "7          High\n",
              "8          High\n",
              "9          High\n",
              "10         High\n",
              "11       Normal\n",
              "12       Normal\n",
              "13       Normal\n",
              "14       Normal\n",
              "15       Normal\n",
              "16       Normal\n",
              "17         High\n",
              "18         High\n",
              "19    Very-High\n",
              "Name: IPM, dtype: object"
            ]
          },
          "metadata": {},
          "execution_count": 12
        }
      ]
    },
    {
      "cell_type": "code",
      "source": [
        "y.tail(20)"
      ],
      "metadata": {
        "colab": {
          "base_uri": "https://localhost:8080/"
        },
        "id": "k986R4SqfdTv",
        "outputId": "ccd3836f-11af-44bb-a367-e3bdd18a7176"
      },
      "execution_count": null,
      "outputs": [
        {
          "output_type": "execute_result",
          "data": {
            "text/plain": [
              "2176       Low\n",
              "2177       Low\n",
              "2178       Low\n",
              "2179       Low\n",
              "2180       Low\n",
              "2181    Normal\n",
              "2182    Normal\n",
              "2183    Normal\n",
              "2184    Normal\n",
              "2185       Low\n",
              "2186       Low\n",
              "2187       Low\n",
              "2188       Low\n",
              "2189       Low\n",
              "2190       Low\n",
              "2191       Low\n",
              "2192       Low\n",
              "2193       Low\n",
              "2194      High\n",
              "2195      High\n",
              "Name: IPM, dtype: object"
            ]
          },
          "metadata": {},
          "execution_count": 13
        }
      ]
    },
    {
      "cell_type": "markdown",
      "source": [
        "###Data Exploration\n",
        "---\n",
        "Didapatkan nilai tertinggi dari variabel data IPM adalah:\n",
        "1. Normal\n",
        "2. High\n",
        "3. Very-High\n",
        "4. Low"
      ],
      "metadata": {
        "id": "xubQ9ZoOJjN3"
      }
    },
    {
      "cell_type": "code",
      "source": [
        "most_ipm = df['IPM'].value_counts()\n",
        "plt.figure(figsize=(20,5))\n",
        "most_ipm.plot(kind='bar')\n",
        "plt.title('Most IPM')"
      ],
      "metadata": {
        "colab": {
          "base_uri": "https://localhost:8080/",
          "height": 392
        },
        "id": "XAIQk8_DCY6P",
        "outputId": "2b762020-dc86-411c-fb04-7897ebe4bb78"
      },
      "execution_count": null,
      "outputs": [
        {
          "output_type": "execute_result",
          "data": {
            "text/plain": [
              "Text(0.5, 1.0, 'Most IPM')"
            ]
          },
          "metadata": {},
          "execution_count": 14
        },
        {
          "output_type": "display_data",
          "data": {
            "text/plain": [
              "<Figure size 1440x360 with 1 Axes>"
            ],
            "image/png": "[encoded data removed]"
          },
          "metadata": {
            "needs_background": "light"
          }
        }
      ]
    },
    {
      "cell_type": "code",
      "source": [
        "#Splitting dataset menjadi data training sebesar 75% dan data testing sebesar 25%\n",
        "X_train, X_test, y_train, y_test = train_test_split(X, y, test_size=0.25)"
      ],
      "metadata": {
        "id": "6DWotWJestDJ"
      },
      "execution_count": null,
      "outputs": []
    },
    {
      "cell_type": "markdown",
      "source": [
        "###Modelling"
      ],
      "metadata": {
        "id": "b50qYezqJmea"
      }
    },
    {
      "cell_type": "code",
      "source": [
        "#Inisialisasi model Random Forest dengan estimators sebanyak 10\n",
        "rf = RandomForestClassifier(n_estimators=10, criterion=\"entropy\")"
      ],
      "metadata": {
        "id": "k_UTYOAY2Hju"
      },
      "execution_count": null,
      "outputs": []
    },
    {
      "cell_type": "code",
      "source": [
        "#Modelling Random Forest dari data training\n",
        "model = rf.fit(X_train, y_train)"
      ],
      "metadata": {
        "id": "r0xyUnEi45aU"
      },
      "execution_count": null,
      "outputs": []
    },
    {
      "cell_type": "code",
      "source": [
        "#Inisialisasi hasil prediksi model Random Forest dari data testing dengan nama y_pred\n",
        "y_pred = model.predict(X_test)"
      ],
      "metadata": {
        "id": "wBgk4Ws85AaF"
      },
      "execution_count": null,
      "outputs": []
    },
    {
      "cell_type": "code",
      "source": [
        "#Menampilkan hasil prediksi dari data testing\n",
        "y_pred"
      ],
      "metadata": {
        "colab": {
          "base_uri": "https://localhost:8080/"
        },
        "id": "JVL6UGU65JqF",
        "outputId": "ebf81c5f-8f25-4e61-9e8e-ae550a123ff8"
      },
      "execution_count": null,
      "outputs": [
        {
          "output_type": "execute_result",
          "data": {
            "text/plain": [
              "array(['Normal', 'Normal', 'Normal', 'High', 'Normal', 'Low', 'High',\n",
              "       'High', 'High', 'High', 'High', 'High', 'Normal', 'Normal', 'High',\n",
              "       'Normal', 'Normal', 'High', 'Normal', 'Normal', 'Normal', 'High',\n",
              "       'High', 'High', 'Normal', 'Normal', 'Very-High', 'Normal',\n",
              "       'Normal', 'Very-High', 'Very-High', 'Normal', 'Normal', 'High',\n",
              "       'High', 'Very-High', 'Normal', 'Normal', 'High', 'Normal', 'High',\n",
              "       'High', 'High', 'Normal', 'High', 'High', 'Normal', 'Normal',\n",
              "       'Normal', 'High', 'Very-High', 'High', 'Normal', 'High', 'High',\n",
              "       'Normal', 'High', 'Normal', 'Normal', 'Normal', 'Normal', 'Normal',\n",
              "       'Normal', 'High', 'High', 'High', 'Normal', 'Normal', 'Normal',\n",
              "       'High', 'Normal', 'Very-High', 'Normal', 'Normal', 'Normal',\n",
              "       'High', 'High', 'Normal', 'Very-High', 'High', 'Normal', 'High',\n",
              "       'Very-High', 'Normal', 'Normal', 'Normal', 'High', 'Normal',\n",
              "       'Normal', 'High', 'Normal', 'Normal', 'High', 'High', 'High',\n",
              "       'High', 'Normal', 'Normal', 'High', 'High', 'Normal', 'Normal',\n",
              "       'Normal', 'Normal', 'Normal', 'Normal', 'Normal', 'High', 'Normal',\n",
              "       'Very-High', 'Normal', 'High', 'High', 'Very-High', 'Very-High',\n",
              "       'Normal', 'High', 'High', 'Very-High', 'High', 'Normal',\n",
              "       'Very-High', 'High', 'Normal', 'Normal', 'Normal', 'Normal',\n",
              "       'Normal', 'Normal', 'High', 'High', 'Very-High', 'Low', 'High',\n",
              "       'High', 'Normal', 'Very-High', 'Normal', 'Normal', 'High',\n",
              "       'Normal', 'Normal', 'High', 'Normal', 'High', 'Normal', 'Normal',\n",
              "       'High', 'Normal', 'Normal', 'Normal', 'High', 'High', 'Very-High',\n",
              "       'High', 'Normal', 'Very-High', 'Normal', 'Very-High', 'Normal',\n",
              "       'High', 'High', 'High', 'High', 'High', 'Low', 'Normal', 'High',\n",
              "       'High', 'High', 'Normal', 'High', 'Low', 'High', 'Normal',\n",
              "       'Normal', 'Normal', 'Normal', 'High', 'High', 'High', 'Normal',\n",
              "       'Normal', 'Normal', 'High', 'Normal', 'High', 'High', 'High',\n",
              "       'Very-High', 'Normal', 'Very-High', 'High', 'Low', 'Low', 'High',\n",
              "       'High', 'High', 'Normal', 'Low', 'High', 'Low', 'Very-High',\n",
              "       'High', 'High', 'Normal', 'Very-High', 'Normal', 'High', 'High',\n",
              "       'High', 'Normal', 'Normal', 'Normal', 'High', 'High', 'Normal',\n",
              "       'Normal', 'High', 'Normal', 'Very-High', 'High', 'Normal',\n",
              "       'Normal', 'Normal', 'High', 'Normal', 'Low', 'Normal', 'Normal',\n",
              "       'Very-High', 'Normal', 'Normal', 'Normal', 'Normal', 'High',\n",
              "       'High', 'High', 'High', 'Normal', 'High', 'High', 'Normal',\n",
              "       'Normal', 'Normal', 'Normal', 'Normal', 'Very-High', 'High',\n",
              "       'Normal', 'Normal', 'Normal', 'High', 'Normal', 'Very-High',\n",
              "       'Normal', 'Very-High', 'Normal', 'Normal', 'Normal', 'High', 'Low',\n",
              "       'Normal', 'High', 'High', 'Normal', 'Normal', 'High', 'High',\n",
              "       'Normal', 'Normal', 'Normal', 'High', 'Normal', 'Normal', 'Normal',\n",
              "       'Normal', 'High', 'Normal', 'Normal', 'High', 'High', 'High',\n",
              "       'High', 'Normal', 'High', 'High', 'Normal', 'High', 'High', 'Low',\n",
              "       'Very-High', 'High', 'Very-High', 'Normal', 'Normal', 'Normal',\n",
              "       'Normal', 'Normal', 'Normal', 'Normal', 'Normal', 'Normal', 'High',\n",
              "       'High', 'Normal', 'Normal', 'Low', 'Normal', 'Normal', 'High',\n",
              "       'High', 'Very-High', 'High', 'High', 'High', 'Normal', 'High',\n",
              "       'Normal', 'Normal', 'Normal', 'Normal', 'Normal', 'High', 'Low',\n",
              "       'Normal', 'High', 'High', 'Normal', 'High', 'Normal', 'Normal',\n",
              "       'Very-High', 'Normal', 'Normal', 'Normal', 'Very-High', 'Normal',\n",
              "       'High', 'High', 'Normal', 'Very-High', 'Normal', 'High', 'Normal',\n",
              "       'Normal', 'High', 'High', 'Normal', 'High', 'Low', 'Low', 'Normal',\n",
              "       'High', 'High', 'Very-High', 'Normal', 'Normal', 'Normal',\n",
              "       'Normal', 'Normal', 'Normal', 'Normal', 'High', 'Normal', 'High',\n",
              "       'Normal', 'Normal', 'Normal', 'Normal', 'Very-High', 'High',\n",
              "       'High', 'Normal', 'High', 'Normal', 'Low', 'High', 'High',\n",
              "       'Normal', 'Normal', 'High', 'High', 'High', 'Normal', 'Normal',\n",
              "       'Very-High', 'High', 'Normal', 'High', 'Low', 'Very-High', 'High',\n",
              "       'Normal', 'High', 'High', 'Normal', 'High', 'Low', 'High',\n",
              "       'Normal', 'Normal', 'Very-High', 'Normal', 'High', 'High',\n",
              "       'Normal', 'High', 'Normal', 'Normal', 'Normal', 'High', 'High',\n",
              "       'High', 'Normal', 'Normal', 'Normal', 'Very-High', 'Normal', 'Low',\n",
              "       'Very-High', 'Normal', 'Normal', 'Normal', 'High', 'Normal',\n",
              "       'Normal', 'High', 'Normal', 'Normal', 'Very-High', 'High', 'High',\n",
              "       'Very-High', 'High', 'High', 'Normal', 'Normal', 'Normal', 'High',\n",
              "       'High', 'Normal', 'Normal', 'Normal', 'Normal', 'Normal', 'High',\n",
              "       'Normal', 'High', 'Normal', 'Normal', 'Normal', 'High', 'Normal',\n",
              "       'Normal', 'High', 'Normal', 'Normal', 'Normal', 'High', 'High',\n",
              "       'Normal', 'High', 'Normal', 'High', 'Very-High', 'Normal', 'High',\n",
              "       'High', 'Normal', 'High', 'High', 'Normal', 'High', 'High', 'High',\n",
              "       'Normal', 'High', 'Normal', 'Normal', 'High', 'High', 'High',\n",
              "       'Normal', 'High', 'High', 'Normal', 'Normal', 'Normal',\n",
              "       'Very-High', 'Normal', 'Normal', 'High', 'Normal', 'Normal',\n",
              "       'Normal', 'Normal', 'Normal', 'Normal', 'High', 'High', 'High',\n",
              "       'Normal', 'Normal', 'Normal', 'High', 'Normal', 'High', 'High',\n",
              "       'Normal', 'High', 'Normal', 'High', 'Normal', 'High', 'High',\n",
              "       'High', 'High', 'Normal', 'Very-High', 'High', 'Normal', 'Normal',\n",
              "       'Normal', 'Low', 'High', 'Normal', 'Normal', 'Low', 'Normal',\n",
              "       'Normal', 'Normal', 'High', 'Normal', 'Normal', 'Low', 'High',\n",
              "       'High', 'High', 'High', 'High', 'Normal', 'High', 'Normal',\n",
              "       'Normal', 'Very-High', 'Normal', 'High', 'Normal'], dtype=object)"
            ]
          },
          "metadata": {},
          "execution_count": 19
        }
      ]
    },
    {
      "cell_type": "markdown",
      "source": [
        "###Evaluation"
      ],
      "metadata": {
        "id": "JHktoF4NJpB2"
      }
    },
    {
      "cell_type": "code",
      "source": [
        "#Nilai akurasi yang diperoleh dari model Random Forest\n",
        "print('Random Forest Model Accuracy: {}%'.format(int(accuracy_score(y_test,y_pred)*100)))"
      ],
      "metadata": {
        "colab": {
          "base_uri": "https://localhost:8080/"
        },
        "id": "qw92WpeF5Q2e",
        "outputId": "de65050f-9364-4414-f35e-c4ae6e377031"
      },
      "execution_count": null,
      "outputs": [
        {
          "output_type": "stream",
          "name": "stdout",
          "text": [
            "Random Forest Model Accuracy: 95%\n"
          ]
        }
      ]
    },
    {
      "cell_type": "code",
      "source": [
        "#Nilai confusion matrix yang diperoleh dari model Random Forest\n",
        "print('Random Forest Model Confusion Matrix:\\n', confusion_matrix(y_test,y_pred))"
      ],
      "metadata": {
        "colab": {
          "base_uri": "https://localhost:8080/"
        },
        "id": "BwVXqJ7c6WrP",
        "outputId": "c95f62d8-ed61-40cd-9fc8-48ce979f022b"
      },
      "execution_count": null,
      "outputs": [
        {
          "output_type": "stream",
          "name": "stdout",
          "text": [
            "Random Forest Model Confusion Matrix:\n",
            " [[201   0  10   2]\n",
            " [  0  20   4   0]\n",
            " [  5   2 257   0]\n",
            " [  4   0   0  44]]\n"
          ]
        }
      ]
    },
    {
      "cell_type": "markdown",
      "source": [
        "###Save Model"
      ],
      "metadata": {
        "id": "jO5x9kxSDBL4"
      }
    },
    {
      "cell_type": "code",
      "source": [
        "joblib.dump((model), \"model_ipm.model\")"
      ],
      "metadata": {
        "colab": {
          "base_uri": "https://localhost:8080/"
        },
        "id": "RE21JCZ6DFY4",
        "outputId": "55e62f98-e356-414b-97a5-bb8a9f16219e"
      },
      "execution_count": null,
      "outputs": [
        {
          "output_type": "execute_result",
          "data": {
            "text/plain": [
              "['model_ipm.model']"
            ]
          },
          "metadata": {},
          "execution_count": 22
        }
      ]
    },
    {
      "cell_type": "markdown",
      "source": [
        "###Prediction"
      ],
      "metadata": {
        "id": "OSRAnDKjDY6S"
      }
    },
    {
      "cell_type": "code",
      "source": [
        "df_test = pd.DataFrame(data={\n",
        "    'harapan_lama_sekolah' : [12],\n",
        "    'pengeluaran_perkapita'  : [10],\n",
        "    'rerata_lama_sekolah' : [8],\n",
        "    'usia_harapan_hidup'  : [69]})\n",
        "\n",
        "df_test[0:1]"
      ],
      "metadata": {
        "colab": {
          "base_uri": "https://localhost:8080/",
          "height": 81
        },
        "id": "1iqSLDbgDVf5",
        "outputId": "1efb0513-bc29-4bea-db4f-c96abc12f966"
      },
      "execution_count": 27,
      "outputs": [
        {
          "output_type": "execute_result",
          "data": {
            "text/plain": [
              "   harapan_lama_sekolah  pengeluaran_perkapita  rerata_lama_sekolah  \\\n",
              "0                    12                     10                    8   \n",
              "\n",
              "   usia_harapan_hidup  \n",
              "0                  69  "
            ],
            "text/html": [
              "\n",
              "  <div id=\"df-6a591e3d-33e8-4823-9acf-0840313f236c\">\n",
              "    <div class=\"colab-df-container\">\n",
              "      <div>\n",
              "<style scoped>\n",
              "    .dataframe tbody tr th:only-of-type {\n",
              "        vertical-align: middle;\n",
              "    }\n",
              "\n",
              "    .dataframe tbody tr th {\n",
              "        vertical-align: top;\n",
              "    }\n",
              "\n",
              "    .dataframe thead th {\n",
              "        text-align: right;\n",
              "    }\n",
              "</style>\n",
              "<table border=\"1\" class=\"dataframe\">\n",
              "  <thead>\n",
              "    <tr style=\"text-align: right;\">\n",
              "      <th></th>\n",
              "      <th>harapan_lama_sekolah</th>\n",
              "      <th>pengeluaran_perkapita</th>\n",
              "      <th>rerata_lama_sekolah</th>\n",
              "      <th>usia_harapan_hidup</th>\n",
              "    </tr>\n",
              "  </thead>\n",
              "  <tbody>\n",
              "    <tr>\n",
              "      <th>0</th>\n",
              "      <td>12</td>\n",
              "      <td>10</td>\n",
              "      <td>8</td>\n",
              "      <td>69</td>\n",
              "    </tr>\n",
              "  </tbody>\n",
              "</table>\n",
              "</div>\n",
              "      <button class=\"colab-df-convert\" onclick=\"convertToInteractive('df-6a591e3d-33e8-4823-9acf-0840313f236c')\"\n",
              "              title=\"Convert this dataframe to an interactive table.\"\n",
              "              style=\"display:none;\">\n",
              "        \n",
              "  <svg xmlns=\"http://www.w3.org/2000/svg\" height=\"24px\"viewBox=\"0 0 24 24\"\n",
              "       width=\"24px\">\n",
              "    <path d=\"M0 0h24v24H0V0z\" fill=\"none\"/>\n",
              "    <path d=\"M18.56 5.44l.94 2.06.94-2.06 2.06-.94-2.06-.94-.94-2.06-.94 2.06-2.06.94zm-11 1L8.5 8.5l.94-2.06 2.06-.94-2.06-.94L8.5 2.5l-.94 2.06-2.06.94zm10 10l.94 2.06.94-2.06 2.06-.94-2.06-.94-.94-2.06-.94 2.06-2.06.94z\"/><path d=\"M17.41 7.96l-1.37-1.37c-.4-.4-.92-.59-1.43-.59-.52 0-1.04.2-1.43.59L10.3 9.45l-7.72 7.72c-.78.78-.78 2.05 0 2.83L4 21.41c.39.39.9.59 1.41.59.51 0 1.02-.2 1.41-.59l7.78-7.78 2.81-2.81c.8-.78.8-2.07 0-2.86zM5.41 20L4 18.59l7.72-7.72 1.47 1.35L5.41 20z\"/>\n",
              "  </svg>\n",
              "      </button>\n",
              "      \n",
              "  <style>\n",
              "    .colab-df-container {\n",
              "      display:flex;\n",
              "      flex-wrap:wrap;\n",
              "      gap: 12px;\n",
              "    }\n",
              "\n",
              "    .colab-df-convert {\n",
              "      background-color: #E8F0FE;\n",
              "      border: none;\n",
              "      border-radius: 50%;\n",
              "      cursor: pointer;\n",
              "      display: none;\n",
              "      fill: #1967D2;\n",
              "      height: 32px;\n",
              "      padding: 0 0 0 0;\n",
              "      width: 32px;\n",
              "    }\n",
              "\n",
              "    .colab-df-convert:hover {\n",
              "      background-color: #E2EBFA;\n",
              "      box-shadow: 0px 1px 2px rgba(60, 64, 67, 0.3), 0px 1px 3px 1px rgba(60, 64, 67, 0.15);\n",
              "      fill: #174EA6;\n",
              "    }\n",
              "\n",
              "    [theme=dark] .colab-df-convert {\n",
              "      background-color: #3B4455;\n",
              "      fill: #D2E3FC;\n",
              "    }\n",
              "\n",
              "    [theme=dark] .colab-df-convert:hover {\n",
              "      background-color: #434B5C;\n",
              "      box-shadow: 0px 1px 3px 1px rgba(0, 0, 0, 0.15);\n",
              "      filter: drop-shadow(0px 1px 2px rgba(0, 0, 0, 0.3));\n",
              "      fill: #FFFFFF;\n",
              "    }\n",
              "  </style>\n",
              "\n",
              "      <script>\n",
              "        const buttonEl =\n",
              "          document.querySelector('#df-6a591e3d-33e8-4823-9acf-0840313f236c button.colab-df-convert');\n",
              "        buttonEl.style.display =\n",
              "          google.colab.kernel.accessAllowed ? 'block' : 'none';\n",
              "\n",
              "        async function convertToInteractive(key) {\n",
              "          const element = document.querySelector('#df-6a591e3d-33e8-4823-9acf-0840313f236c');\n",
              "          const dataTable =\n",
              "            await google.colab.kernel.invokeFunction('convertToInteractive',\n",
              "                                                     [key], {});\n",
              "          if (!dataTable) return;\n",
              "\n",
              "          const docLinkHtml = 'Like what you see? Visit the ' +\n",
              "            '<a target=\"_blank\" href=https://colab.research.google.com/notebooks/data_table.ipynb>data table notebook</a>'\n",
              "            + ' to learn more about interactive tables.';\n",
              "          element.innerHTML = '';\n",
              "          dataTable['output_type'] = 'display_data';\n",
              "          await google.colab.output.renderOutput(dataTable, element);\n",
              "          const docLink = document.createElement('div');\n",
              "          docLink.innerHTML = docLinkHtml;\n",
              "          element.appendChild(docLink);\n",
              "        }\n",
              "      </script>\n",
              "    </div>\n",
              "  </div>\n",
              "  "
            ]
          },
          "metadata": {},
          "execution_count": 27
        }
      ]
    },
    {
      "cell_type": "code",
      "source": [
        "pred_test = model.predict(df_test[0:1])\n",
        "pred_test[0]"
      ],
      "metadata": {
        "colab": {
          "base_uri": "https://localhost:8080/",
          "height": 35
        },
        "id": "xhwoWxnaDnyy",
        "outputId": "6317f394-a23e-42d8-deb8-5a897219f2ef"
      },
      "execution_count": 28,
      "outputs": [
        {
          "output_type": "execute_result",
          "data": {
            "text/plain": [
              "'Normal'"
            ],
            "application/vnd.google.colaboratory.intrinsic+json": {
              "type": "string"
            }
          },
          "metadata": {},
          "execution_count": 28
        }
      ]
    }
  ]
}